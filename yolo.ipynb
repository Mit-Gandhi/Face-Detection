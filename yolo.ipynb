{
 "cells": [
  {
   "cell_type": "code",
   "execution_count": 1,
   "metadata": {},
   "outputs": [
    {
     "name": "stdout",
     "output_type": "stream",
     "text": [
      "Defaulting to user installation because normal site-packages is not writeable\n",
      "Requirement already satisfied: ultralytics in c:\\users\\mit\\appdata\\roaming\\python\\python311\\site-packages (8.3.73)\n",
      "Requirement already satisfied: numpy<=2.1.1,>=1.23.0 in c:\\users\\mit\\appdata\\roaming\\python\\python311\\site-packages (from ultralytics) (2.0.2)\n",
      "Requirement already satisfied: matplotlib>=3.3.0 in c:\\users\\mit\\appdata\\roaming\\python\\python311\\site-packages (from ultralytics) (3.10.0)\n",
      "Requirement already satisfied: opencv-python>=4.6.0 in c:\\users\\mit\\appdata\\roaming\\python\\python311\\site-packages (from ultralytics) (4.11.0.86)\n",
      "Requirement already satisfied: pillow>=7.1.2 in c:\\users\\mit\\appdata\\roaming\\python\\python311\\site-packages (from ultralytics) (11.1.0)\n",
      "Requirement already satisfied: pyyaml>=5.3.1 in c:\\users\\mit\\appdata\\roaming\\python\\python311\\site-packages (from ultralytics) (6.0.2)\n",
      "Requirement already satisfied: requests>=2.23.0 in c:\\users\\mit\\appdata\\roaming\\python\\python311\\site-packages (from ultralytics) (2.32.3)\n",
      "Requirement already satisfied: scipy>=1.4.1 in c:\\users\\mit\\appdata\\roaming\\python\\python311\\site-packages (from ultralytics) (1.15.1)\n",
      "Requirement already satisfied: torch>=1.8.0 in c:\\users\\mit\\appdata\\roaming\\python\\python311\\site-packages (from ultralytics) (2.5.1+cu121)\n",
      "Requirement already satisfied: torchvision>=0.9.0 in c:\\users\\mit\\appdata\\roaming\\python\\python311\\site-packages (from ultralytics) (0.20.1+cu121)\n",
      "Requirement already satisfied: tqdm>=4.64.0 in c:\\users\\mit\\appdata\\roaming\\python\\python311\\site-packages (from ultralytics) (4.67.1)\n",
      "Requirement already satisfied: psutil in c:\\users\\mit\\appdata\\roaming\\python\\python311\\site-packages (from ultralytics) (6.1.1)\n",
      "Requirement already satisfied: py-cpuinfo in c:\\users\\mit\\appdata\\roaming\\python\\python311\\site-packages (from ultralytics) (9.0.0)\n",
      "Requirement already satisfied: pandas>=1.1.4 in c:\\users\\mit\\appdata\\roaming\\python\\python311\\site-packages (from ultralytics) (2.2.3)\n",
      "Requirement already satisfied: seaborn>=0.11.0 in c:\\users\\mit\\appdata\\roaming\\python\\python311\\site-packages (from ultralytics) (0.13.2)\n",
      "Requirement already satisfied: ultralytics-thop>=2.0.0 in c:\\users\\mit\\appdata\\roaming\\python\\python311\\site-packages (from ultralytics) (2.0.14)\n",
      "Requirement already satisfied: contourpy>=1.0.1 in c:\\users\\mit\\appdata\\roaming\\python\\python311\\site-packages (from matplotlib>=3.3.0->ultralytics) (1.3.1)\n",
      "Requirement already satisfied: cycler>=0.10 in c:\\users\\mit\\appdata\\roaming\\python\\python311\\site-packages (from matplotlib>=3.3.0->ultralytics) (0.12.1)\n",
      "Requirement already satisfied: fonttools>=4.22.0 in c:\\users\\mit\\appdata\\roaming\\python\\python311\\site-packages (from matplotlib>=3.3.0->ultralytics) (4.55.8)\n",
      "Requirement already satisfied: kiwisolver>=1.3.1 in c:\\users\\mit\\appdata\\roaming\\python\\python311\\site-packages (from matplotlib>=3.3.0->ultralytics) (1.4.8)\n",
      "Requirement already satisfied: packaging>=20.0 in c:\\users\\mit\\appdata\\roaming\\python\\python311\\site-packages (from matplotlib>=3.3.0->ultralytics) (24.2)\n",
      "Requirement already satisfied: pyparsing>=2.3.1 in c:\\users\\mit\\appdata\\roaming\\python\\python311\\site-packages (from matplotlib>=3.3.0->ultralytics) (3.2.1)\n",
      "Requirement already satisfied: python-dateutil>=2.7 in c:\\users\\mit\\appdata\\roaming\\python\\python311\\site-packages (from matplotlib>=3.3.0->ultralytics) (2.9.0.post0)\n",
      "Requirement already satisfied: pytz>=2020.1 in c:\\users\\mit\\appdata\\roaming\\python\\python311\\site-packages (from pandas>=1.1.4->ultralytics) (2024.2)\n",
      "Requirement already satisfied: tzdata>=2022.7 in c:\\users\\mit\\appdata\\roaming\\python\\python311\\site-packages (from pandas>=1.1.4->ultralytics) (2025.1)\n",
      "Requirement already satisfied: charset-normalizer<4,>=2 in c:\\users\\mit\\appdata\\roaming\\python\\python311\\site-packages (from requests>=2.23.0->ultralytics) (3.4.1)\n",
      "Requirement already satisfied: idna<4,>=2.5 in c:\\users\\mit\\appdata\\roaming\\python\\python311\\site-packages (from requests>=2.23.0->ultralytics) (3.10)\n",
      "Requirement already satisfied: urllib3<3,>=1.21.1 in c:\\users\\mit\\appdata\\roaming\\python\\python311\\site-packages (from requests>=2.23.0->ultralytics) (2.3.0)\n",
      "Requirement already satisfied: certifi>=2017.4.17 in c:\\users\\mit\\appdata\\roaming\\python\\python311\\site-packages (from requests>=2.23.0->ultralytics) (2024.12.14)\n",
      "Requirement already satisfied: filelock in c:\\users\\mit\\appdata\\roaming\\python\\python311\\site-packages (from torch>=1.8.0->ultralytics) (3.13.1)\n",
      "Requirement already satisfied: typing-extensions>=4.8.0 in c:\\users\\mit\\appdata\\roaming\\python\\python311\\site-packages (from torch>=1.8.0->ultralytics) (4.12.2)\n",
      "Requirement already satisfied: networkx in c:\\users\\mit\\appdata\\roaming\\python\\python311\\site-packages (from torch>=1.8.0->ultralytics) (3.3)\n",
      "Requirement already satisfied: jinja2 in c:\\users\\mit\\appdata\\roaming\\python\\python311\\site-packages (from torch>=1.8.0->ultralytics) (3.1.4)\n",
      "Requirement already satisfied: fsspec in c:\\users\\mit\\appdata\\roaming\\python\\python311\\site-packages (from torch>=1.8.0->ultralytics) (2024.6.1)\n",
      "Requirement already satisfied: sympy==1.13.1 in c:\\users\\mit\\appdata\\roaming\\python\\python311\\site-packages (from torch>=1.8.0->ultralytics) (1.13.1)\n",
      "Requirement already satisfied: mpmath<1.4,>=1.1.0 in c:\\users\\mit\\appdata\\roaming\\python\\python311\\site-packages (from sympy==1.13.1->torch>=1.8.0->ultralytics) (1.3.0)\n",
      "Requirement already satisfied: colorama in c:\\users\\mit\\appdata\\roaming\\python\\python311\\site-packages (from tqdm>=4.64.0->ultralytics) (0.4.6)\n",
      "Requirement already satisfied: six>=1.5 in c:\\users\\mit\\appdata\\roaming\\python\\python311\\site-packages (from python-dateutil>=2.7->matplotlib>=3.3.0->ultralytics) (1.17.0)\n",
      "Requirement already satisfied: MarkupSafe>=2.0 in c:\\users\\mit\\appdata\\roaming\\python\\python311\\site-packages (from jinja2->torch>=1.8.0->ultralytics) (3.0.2)\n"
     ]
    }
   ],
   "source": [
    "!pip install ultralytics"
   ]
  },
  {
   "cell_type": "code",
   "execution_count": 2,
   "metadata": {},
   "outputs": [],
   "source": [
    "import numpy as np\n",
    "import pandas as pd\n",
    "\n",
    "from ultralytics import YOLO\n",
    "\n",
    "model = YOLO(\"yolo11n.pt\")"
   ]
  },
  {
   "cell_type": "code",
   "execution_count": null,
   "metadata": {},
   "outputs": [],
   "source": [
    "train_results = model.train(\n",
    "    data = r'C:\\Users\\Mit\\Desktop\\yolo\\data.yml',\n",
    "    imgsz = 640,\n",
    "    device = 0,\n",
    "    epochs = 50\n",
    ")"
   ]
  },
  {
   "cell_type": "code",
   "execution_count": 4,
   "metadata": {},
   "outputs": [
    {
     "name": "stdout",
     "output_type": "stream",
     "text": [
      "\n",
      "image 1/1 C:\\Users\\Mit\\Desktop\\yolo-face-w\\images\\val\\9.jpg: 640x640 1 faces, 34.0ms\n",
      "Speed: 5.0ms preprocess, 34.0ms inference, 206.0ms postprocess per image at shape (1, 3, 640, 640)\n"
     ]
    }
   ],
   "source": [
    "import matplotlib.pyplot as plt\n",
    "\n",
    "model = YOLO(r\"C:\\Users\\Mit\\Desktop\\yolo-face-w\\runs\\detect\\train2\\weights\\face.pt\")\n",
    "\n",
    "result = model(r\"C:\\Users\\Mit\\Desktop\\yolo-face-w\\images\\val\\9.jpg\")\n",
    "result[0].show()"
   ]
  },
  {
   "cell_type": "code",
   "execution_count": 8,
   "metadata": {},
   "outputs": [
    {
     "name": "stdout",
     "output_type": "stream",
     "text": [
      "\n",
      "image 1/1 C:\\Users\\Mit\\Desktop\\yolo-face-w\\IMG_20250217_154045.jpg: 480x640 4 facess, 21.0ms\n",
      "Speed: 6.0ms preprocess, 21.0ms inference, 1.0ms postprocess per image at shape (1, 3, 480, 640)\n"
     ]
    }
   ],
   "source": [
    "model = YOLO(r\"C:\\Users\\Mit\\Desktop\\yolo-face-w\\runs\\detect\\train2\\weights\\face.pt\")\n",
    "\n",
    "result = model(r\"C:\\Users\\Mit\\Desktop\\yolo-face-w\\IMG_20250217_154045.jpg\")\n",
    "result[0].show()"
   ]
  },
  {
   "cell_type": "code",
   "execution_count": null,
   "metadata": {},
   "outputs": [
    {
     "name": "stdout",
     "output_type": "stream",
     "text": [
      "\n",
      "image 1/1 C:\\Users\\Mit\\Desktop\\yolo-face\\IMG_20250217_154707.jpg: 480x640 1 faces, 29.4ms\n",
      "Speed: 4.4ms preprocess, 29.4ms inference, 2.1ms postprocess per image at shape (1, 3, 480, 640)\n"
     ]
    }
   ],
   "source": [
    "model = YOLO(r\"C:\\Users\\Mit\\Desktop\\yolo-face-w\\runs\\detect\\train2\\weights\\face.pt\")\n",
    "\n",
    "result = model(r\"C:\\Users\\Mit\\Desktop\\yolo-face\\IMG_20250217_154707.jpg\")\n",
    "result[0].show()"
   ]
  },
  {
   "cell_type": "code",
   "execution_count": null,
   "metadata": {},
   "outputs": [
    {
     "name": "stdout",
     "output_type": "stream",
     "text": [
      "\n",
      "image 1/1 C:\\Users\\Mit\\Desktop\\yolo-face\\IMG_20250217_154941.jpg: 640x480 (no detections), 72.0ms\n",
      "Speed: 3.0ms preprocess, 72.0ms inference, 1.0ms postprocess per image at shape (1, 3, 640, 480)\n"
     ]
    }
   ],
   "source": [
    "model = YOLO(r\"C:\\Users\\Mit\\Desktop\\yolo-face-w\\runs\\detect\\train2\\weights\\face.pt\")\n",
    "\n",
    "result = model(r\"C:\\Users\\Mit\\Desktop\\yolo-face\\IMG_20250217_154941.jpg\")\n",
    "result[0].show()"
   ]
  },
  {
   "cell_type": "code",
   "execution_count": null,
   "metadata": {},
   "outputs": [
    {
     "name": "stdout",
     "output_type": "stream",
     "text": [
      "\n",
      "image 1/1 C:\\Users\\Mit\\Desktop\\yolo-face\\IMG_20250217_155214.jpg: 640x480 1 faces, 22.4ms\n",
      "Speed: 6.0ms preprocess, 22.4ms inference, 2.0ms postprocess per image at shape (1, 3, 640, 480)\n"
     ]
    }
   ],
   "source": [
    "model = YOLO(r\"C:\\Users\\Mit\\Desktop\\yolo-face-w\\runs\\detect\\train2\\weights\\face.pt\")\n",
    "\n",
    "result = model(r\"C:\\Users\\Mit\\Desktop\\yolo-face\\IMG_20250217_155214.jpg\")\n",
    "result[0].show()"
   ]
  },
  {
   "cell_type": "code",
   "execution_count": null,
   "metadata": {},
   "outputs": [
    {
     "name": "stdout",
     "output_type": "stream",
     "text": [
      "\n",
      "image 1/1 C:\\Users\\Mit\\Desktop\\yolo-face\\IMG20250217220848.jpg: 640x480 (no detections), 19.0ms\n",
      "Speed: 5.0ms preprocess, 19.0ms inference, 1.0ms postprocess per image at shape (1, 3, 640, 480)\n"
     ]
    }
   ],
   "source": [
    "model = YOLO(r\"C:\\Users\\Mit\\Desktop\\yolo-face-w\\runs\\detect\\train2\\weights\\face.pt\")\n",
    "\n",
    "result = model(r\"C:\\Users\\Mit\\Desktop\\yolo-face\\IMG20250217220848.jpg\")\n",
    "result[0].show()"
   ]
  },
  {
   "cell_type": "code",
   "execution_count": null,
   "metadata": {},
   "outputs": [
    {
     "name": "stdout",
     "output_type": "stream",
     "text": [
      "\n",
      "image 1/1 C:\\Users\\Mit\\Desktop\\yolo-face\\IMG20250217220857.jpg: 640x480 1 faces, 12.0ms\n",
      "Speed: 3.0ms preprocess, 12.0ms inference, 1.0ms postprocess per image at shape (1, 3, 640, 480)\n"
     ]
    }
   ],
   "source": [
    "model = YOLO(r\"C:\\Users\\Mit\\Desktop\\yolo-face-w\\runs\\detect\\train2\\weights\\face.pt\")\n",
    "\n",
    "result = model(r\"C:\\Users\\Mit\\Desktop\\yolo-face\\IMG20250217220857.jpg\")\n",
    "result[0].show()"
   ]
  },
  {
   "cell_type": "code",
   "execution_count": null,
   "metadata": {},
   "outputs": [
    {
     "name": "stdout",
     "output_type": "stream",
     "text": [
      "\n",
      "image 1/1 C:\\Users\\Mit\\Desktop\\yolo-face\\20250218_093435.jpg: 640x480 1 faces, 27.0ms\n",
      "Speed: 6.0ms preprocess, 27.0ms inference, 5.0ms postprocess per image at shape (1, 3, 640, 480)\n"
     ]
    }
   ],
   "source": [
    "model = YOLO(r\"C:\\Users\\Mit\\Desktop\\yolo-face-w\\runs\\detect\\train2\\weights\\face.pt\")\n",
    "\n",
    "result = model(r\"C:\\Users\\Mit\\Desktop\\yolo-face\\20250218_093435.jpg\")\n",
    "result[0].show()"
   ]
  },
  {
   "cell_type": "code",
   "execution_count": null,
   "metadata": {},
   "outputs": [
    {
     "name": "stdout",
     "output_type": "stream",
     "text": [
      "\n",
      "image 1/1 C:\\Users\\Mit\\Desktop\\yolo-face\\20250218_093501.jpg: 640x480 1 faces, 20.0ms\n",
      "Speed: 4.0ms preprocess, 20.0ms inference, 1.0ms postprocess per image at shape (1, 3, 640, 480)\n"
     ]
    }
   ],
   "source": [
    "model = YOLO(r\"C:\\Users\\Mit\\Desktop\\yolo-face-w\\runs\\detect\\train2\\weights\\face.pt\")\n",
    "\n",
    "result = model(r\"C:\\Users\\Mit\\Desktop\\yolo-face\\20250218_093501.jpg\")\n",
    "result[0].show()"
   ]
  },
  {
   "cell_type": "code",
   "execution_count": 7,
   "metadata": {},
   "outputs": [
    {
     "name": "stdout",
     "output_type": "stream",
     "text": [
      "\n",
      "image 1/1 C:\\Users\\Mit\\Desktop\\yolo-face-w\\Screenshot 2025-02-18 131022.png: 320x640 2 facess, 92.6ms\n",
      "Speed: 3.0ms preprocess, 92.6ms inference, 9.7ms postprocess per image at shape (1, 3, 320, 640)\n",
      "Results saved to \u001b[1mruns\\detect\\predict3\u001b[0m\n"
     ]
    }
   ],
   "source": [
    "model = YOLO(r\"C:\\Users\\Mit\\Desktop\\yolo-face-w\\runs\\detect\\train2\\weights\\face.pt\")\n",
    "\n",
    "result = model(r\"C:\\Users\\Mit\\Desktop\\yolo-face-w\\Screenshot 2025-02-18 131022.png\", save = True)\n",
    "result[0].show()"
   ]
  },
  {
   "cell_type": "code",
   "execution_count": 6,
   "metadata": {},
   "outputs": [
    {
     "name": "stdout",
     "output_type": "stream",
     "text": [
      "\n",
      "image 1/1 C:\\Users\\Mit\\Desktop\\yolo-face-w\\WhatsApp Image 2025-02-20 at 10.25.16_ffdb05c4.jpg: 480x640 17 facess, 30.0ms\n",
      "Speed: 4.9ms preprocess, 30.0ms inference, 2.9ms postprocess per image at shape (1, 3, 480, 640)\n",
      "Results saved to \u001b[1mruns\\detect\\predict2\u001b[0m\n"
     ]
    }
   ],
   "source": [
    "model = YOLO(r\"C:\\Users\\Mit\\Desktop\\yolo-face-w\\runs\\detect\\train2\\weights\\face.pt\")\n",
    "\n",
    "result = model(r\"C:\\Users\\Mit\\Desktop\\yolo-face-w\\WhatsApp Image 2025-02-20 at 10.25.16_ffdb05c4.jpg\", save = True)\n",
    "result[0].show()"
   ]
  },
  {
   "cell_type": "code",
   "execution_count": null,
   "metadata": {},
   "outputs": [],
   "source": []
  }
 ],
 "metadata": {
  "kernelspec": {
   "display_name": "Python 3",
   "language": "python",
   "name": "python3"
  },
  "language_info": {
   "codemirror_mode": {
    "name": "ipython",
    "version": 3
   },
   "file_extension": ".py",
   "mimetype": "text/x-python",
   "name": "python",
   "nbconvert_exporter": "python",
   "pygments_lexer": "ipython3",
   "version": "3.11.0"
  }
 },
 "nbformat": 4,
 "nbformat_minor": 2
}
